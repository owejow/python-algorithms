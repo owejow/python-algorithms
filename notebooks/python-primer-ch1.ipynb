{
 "cells": [
  {
   "cell_type": "markdown",
   "metadata": {},
   "source": [
    "# Chapter 1: Python Primer"
   ]
  },
  {
   "cell_type": "markdown",
   "metadata": {},
   "source": [
    "### Identifiers:\n",
    "    * case sensitive\n",
    "    * aka name\n",
    "    * assignment statement sets values"
   ]
  },
  {
   "cell_type": "markdown",
   "metadata": {},
   "source": [
    "### Reserved identifiers:\n",
    "\n",
    "  * can not be identifier\n",
    "  * list of reserved words:\n",
    "  \n",
    "  \n",
    "False\n",
    "None\n",
    "True\n",
    "and\n",
    "as\n",
    "assert\n",
    "break\n",
    "class\n",
    "continue\n",
    "def\n",
    "del\n",
    "elif\n",
    "else\n",
    "from\n",
    "in\n",
    "except \n",
    "global \n",
    "is\n",
    "finally \n",
    "if\n",
    "lambda\n",
    "for\n",
    "import \n",
    "nonlocal\n",
    "not\n",
    "or\n",
    "pass\n",
    "raise\n",
    "return\n",
    "try\n",
    "while\n",
    "with\n",
    "yield"
   ]
  },
  {
   "cell_type": "markdown",
   "metadata": {},
   "source": [
    "# Dynamically typed\n",
    "   * no type specified\n",
    "   * alias second identifier assigned to object"
   ]
  },
  {
   "cell_type": "markdown",
   "metadata": {},
   "source": [
    "# Instantiation\n",
    "  * creating a new class \n",
    "  * invoke constructor:\n",
    "      * Widget()\n",
    "  * literal constructor:\n",
    "      * temperature = 98.6\n",
    "      * temperature = float(98.6)"
   ]
  },
  {
   "cell_type": "code",
   "execution_count": null,
   "metadata": {},
   "outputs": [],
   "source": [
    "float(98.6) == 98.6"
   ]
  },
  {
   "cell_type": "markdown",
   "metadata": {},
   "source": [
    "# Methods\n",
    "  * member function that are part of specific instance of a class\n",
    "  * [4, 1, 3].sort()"
   ]
  },
  {
   "cell_type": "code",
   "execution_count": null,
   "metadata": {},
   "outputs": [],
   "source": [
    "sample_list = [4,1,3]\n",
    "sample_list.sort()\n",
    "sample_list"
   ]
  },
  {
   "cell_type": "code",
   "execution_count": null,
   "metadata": {},
   "outputs": [],
   "source": [
    "# method is invoked on identifier to left of dot\n",
    "identifier = 2.0\n",
    "identifier.is_integer()"
   ]
  },
  {
   "cell_type": "markdown",
   "metadata": {},
   "source": [
    "### Method Types\n",
    "  * mutators or update methods: change the state of object\n",
    "  * accessors return information about state of object but do not change its state"
   ]
  },
  {
   "cell_type": "markdown",
   "metadata": {},
   "source": [
    "# Built-in Class Types:\n",
    "  * bool: boolean value (immutable)\n",
    "  * int: integer value (immutable)\n",
    "  * float: float value (immutable)\n",
    "  * list: sequence of objects (mutable)\n",
    "  * tuple: sequence of object (immutable)\n",
    "  * str: character string (immutable)\n",
    "  * set: unordered set of distinct objects (mutable)\n",
    "  * frozenset: set of distinct objects (immutable)\n",
    "  * dict: dictionary (mutable)"
   ]
  },
  {
   "cell_type": "markdown",
   "metadata": {},
   "source": [
    "### bool\n",
    "  * values:\n",
    "    * True \n",
    "    * False\n",
    "  * bool: constructor, returns False by default\n",
    "  * values to constructor determine bool return value\n",
    "     * interpretation of value depends on type\n",
    "         * numbers 0 return False all else True\n",
    "         * lists and sequences, non-empty True, empty False"
   ]
  },
  {
   "cell_type": "code",
   "execution_count": null,
   "metadata": {},
   "outputs": [],
   "source": [
    "bool()\n",
    "\n",
    "bool(1)\n",
    "\n",
    "bool(0)\n",
    "\n",
    "bool([])\n",
    "\n",
    "bool([0])"
   ]
  },
  {
   "cell_type": "markdown",
   "metadata": {},
   "source": [
    "### int\n",
    "  * represents integer values of arbitrary magnitude\n",
    "  * python automatically chooses the internal representation that is most suitable\n",
    "    * does not have short or long like C++ or Java\n",
    "  * Literals\n",
    "    * integer values with sign: 0, -23, 43\n",
    "    * Use octal, binary, or hexadecimal\n",
    "       * 0 plus b binary: 0b111\n",
    "       * 0 plus o octal: 0o44\n",
    "       * 0 plus x hexadecimal: 0xff\n",
    "    * constructor\n",
    "       * int\n",
    "       * returns 0 by default\n",
    "       * truncates floats to integer\n",
    "          * int(3.12) => 3\n",
    "       * integer strings are converted to integer\n",
    "          * int('33') => 33\n",
    "          * default assumes base 10\n",
    "          * if base is not decimal need to specify base\n",
    "            * int('33',5) => 33\n",
    "          * raises TypeError if value is not convertible\n",
    "            * int('hello')"
   ]
  },
  {
   "cell_type": "code",
   "execution_count": null,
   "metadata": {},
   "outputs": [],
   "source": [
    "print(f\"int(3.12) ==> {int(3.12)}\")\n",
    "print(f'int(\"33\",5) ==> {int(\"33\", 5)}')"
   ]
  },
  {
   "cell_type": "markdown",
   "metadata": {},
   "source": [
    "### Float\n",
    "  * sole floating point\n",
    "  * uses fixed precision representation similar to double in Java and C++\n",
    "  * literals\n",
    "    * Trailing zeros are optional:\n",
    "        * 4.0 can be represented as 4.\n",
    "    * scientific notation\n",
    "        * 6.023e23\n",
    "  * constructor\n",
    "    * float\n",
    "    * returns 0.0 by default\n",
    "    * attempts to convert string as floating point value\n",
    "    * raises ValueError if not convertible"
   ]
  },
  {
   "cell_type": "code",
   "execution_count": null,
   "metadata": {},
   "outputs": [],
   "source": [
    "print(f\"float(3.12) ==> {float(3.12)}\")\n",
    "print(f'float(\"33\") ==> {float(\"33\")}')"
   ]
  }
 ],
 "metadata": {
  "kernelspec": {
   "display_name": "Python 3",
   "language": "python",
   "name": "python3"
  },
  "language_info": {
   "codemirror_mode": {
    "name": "ipython",
    "version": 3
   },
   "file_extension": ".py",
   "mimetype": "text/x-python",
   "name": "python",
   "nbconvert_exporter": "python",
   "pygments_lexer": "ipython3",
   "version": "3.7.0"
  }
 },
 "nbformat": 4,
 "nbformat_minor": 2
}
