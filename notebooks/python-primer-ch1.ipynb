{
 "cells": [
  {
   "cell_type": "code",
   "execution_count": null,
   "metadata": {},
   "outputs": [],
   "source": [
    "%autosave 0"
   ]
  },
  {
   "cell_type": "markdown",
   "metadata": {},
   "source": [
    "# Chapter 1: Python Primer"
   ]
  },
  {
   "cell_type": "markdown",
   "metadata": {},
   "source": [
    "### Identifiers:\n",
    "    * case sensitive\n",
    "    * aka name\n",
    "    * assignment statement sets values"
   ]
  },
  {
   "cell_type": "markdown",
   "metadata": {},
   "source": [
    "### Reserved identifiers:\n",
    "\n",
    "  * can not be identifier\n",
    "  * list of reserved words:\n",
    "  \n",
    "  \n",
    "False\n",
    "None\n",
    "True\n",
    "and\n",
    "as\n",
    "assert\n",
    "break\n",
    "class\n",
    "continue\n",
    "def\n",
    "del\n",
    "elif\n",
    "else\n",
    "from\n",
    "in\n",
    "except \n",
    "global \n",
    "is\n",
    "finally \n",
    "if\n",
    "lambda\n",
    "for\n",
    "import \n",
    "nonlocal\n",
    "not\n",
    "or\n",
    "pass\n",
    "raise\n",
    "return\n",
    "try\n",
    "while\n",
    "with\n",
    "yield"
   ]
  },
  {
   "cell_type": "markdown",
   "metadata": {},
   "source": [
    "# Dynamically typed\n",
    "   * no type specified\n",
    "   * alias second identifier assigned to object"
   ]
  },
  {
   "cell_type": "markdown",
   "metadata": {},
   "source": [
    "# Instantiation\n",
    "  * creating a new class \n",
    "  * invoke constructor:\n",
    "      * Widget()\n",
    "  * literal constructor:\n",
    "      * temperature = 98.6\n",
    "      * temperature = float(98.6)"
   ]
  },
  {
   "cell_type": "code",
   "execution_count": null,
   "metadata": {},
   "outputs": [],
   "source": [
    "float(98.6) == 98.6"
   ]
  },
  {
   "cell_type": "markdown",
   "metadata": {},
   "source": [
    "# Methods\n",
    "  * member function that are part of specific instance of a class\n",
    "  * [4, 1, 3].sort()"
   ]
  },
  {
   "cell_type": "code",
   "execution_count": null,
   "metadata": {},
   "outputs": [],
   "source": [
    "sample_list = [4,1,3]\n",
    "sample_list.sort()\n",
    "sample_list"
   ]
  },
  {
   "cell_type": "code",
   "execution_count": null,
   "metadata": {},
   "outputs": [],
   "source": [
    "# method is invoked on identifier to left of dot\n",
    "identifier = 2.0\n",
    "identifier.is_integer()"
   ]
  },
  {
   "cell_type": "markdown",
   "metadata": {},
   "source": [
    "### Method Types\n",
    "  * mutators or update methods: change the state of object\n",
    "  * accessors return information about state of object but do not change its state"
   ]
  },
  {
   "cell_type": "markdown",
   "metadata": {},
   "source": [
    "# Built-in Class Types:\n",
    "  * bool: boolean value (immutable)\n",
    "  * int: integer value (immutable)\n",
    "  * float: float value (immutable)\n",
    "  * list: sequence of objects (mutable)\n",
    "  * tuple: sequence of object (immutable)\n",
    "  * str: character string (immutable)\n",
    "  * set: unordered set of distinct objects (mutable)\n",
    "  * frozenset: set of distinct objects (immutable)\n",
    "  * dict: dictionary (mutable)"
   ]
  },
  {
   "cell_type": "markdown",
   "metadata": {},
   "source": [
    "### bool\n",
    "  * values:\n",
    "    * True \n",
    "    * False\n",
    "  * bool: constructor, returns False by default\n",
    "  * values to constructor determine bool return value\n",
    "     * interpretation of value depends on type\n",
    "         * numbers 0 return False all else True\n",
    "         * lists and sequences, non-empty True, empty False"
   ]
  },
  {
   "cell_type": "code",
   "execution_count": null,
   "metadata": {},
   "outputs": [],
   "source": [
    "bool()\n",
    "\n",
    "bool(1)\n",
    "\n",
    "bool(0)\n",
    "\n",
    "bool([])\n",
    "\n",
    "bool([0])"
   ]
  },
  {
   "cell_type": "markdown",
   "metadata": {},
   "source": [
    "### int\n",
    "  * represents integer values of arbitrary magnitude\n",
    "  * python automatically chooses the internal representation that is most suitable\n",
    "    * does not have short or long like C++ or Java\n",
    "  * Literals\n",
    "    * integer values with sign: 0, -23, 43\n",
    "    * Use octal, binary, or hexadecimal\n",
    "       * 0 plus b binary: 0b111\n",
    "       * 0 plus o octal: 0o44\n",
    "       * 0 plus x hexadecimal: 0xff\n",
    "    * constructor\n",
    "       * int\n",
    "       * returns 0 by default\n",
    "       * truncates floats to integer\n",
    "          * int(3.12) => 3\n",
    "       * integer strings are converted to integer\n",
    "          * int('33') => 33\n",
    "          * default assumes base 10\n",
    "          * if base is not decimal need to specify base\n",
    "            * int('33',5) => 33\n",
    "          * raises TypeError if value is not convertible\n",
    "            * int('hello')"
   ]
  },
  {
   "cell_type": "code",
   "execution_count": null,
   "metadata": {},
   "outputs": [],
   "source": [
    "print(f\"int(3.12) ==> {int(3.12)}\")\n",
    "print(f'int(\"33\",5) ==> {int(\"33\", 5)}')"
   ]
  },
  {
   "cell_type": "markdown",
   "metadata": {},
   "source": [
    "### Float\n",
    "  * sole floating point\n",
    "  * uses fixed precision representation similar to double in Java and C++\n",
    "  * literals\n",
    "    * Trailing zeros are optional:\n",
    "        * 4.0 can be represented as 4.\n",
    "    * scientific notation\n",
    "        * 6.023e23\n",
    "  * constructor\n",
    "    * float\n",
    "    * returns 0.0 by default\n",
    "    * attempts to convert string as floating point value\n",
    "    * raises ValueError if not convertible"
   ]
  },
  {
   "cell_type": "code",
   "execution_count": null,
   "metadata": {},
   "outputs": [],
   "source": [
    "print(f\"float(3.12) ==> {float(3.12)}\")\n",
    "print(f'float(\"33\") ==> {float(\"33\")}')"
   ]
  },
  {
   "cell_type": "markdown",
   "metadata": {},
   "source": [
    "## Sequence Types\n",
    "  * list\n",
    "  * tuple\n",
    "  * string"
   ]
  },
  {
   "cell_type": "markdown",
   "metadata": {},
   "source": [
    "### list\n",
    "  * stores sequence of objects\n",
    "  * referential structure: stores reference to sequence of objects\n",
    "  * array-based sequences that are zero-indexed\n",
    "  * dynamically expland and contract\n",
    "  * constructor:\n",
    "    * list()\n",
    "    * produces empty list by default\n",
    "    * accepts any parameter that is iterable\n",
    "    * list('hello') => ['h','e','l','l','o']"
   ]
  },
  {
   "cell_type": "code",
   "execution_count": null,
   "metadata": {},
   "outputs": [],
   "source": [
    "print(f\"list() ==> {list()}\")\n",
    "print(f\"[1,2]  ==> {[1,2]}\")"
   ]
  },
  {
   "cell_type": "markdown",
   "metadata": {},
   "source": [
    "### tuple\n",
    "  * immutable version of a sequence\n",
    "  * can be more efficiently represented\n",
    "  * delimeted by parenthesis\n",
    "  * single element tuple: (17,)\n",
    "    * (17) viewed as simple parenthesized numeric expression\n",
    "  * constructor:\n",
    "    * tuple\n",
    "    * default: returns empty tuple"
   ]
  },
  {
   "cell_type": "code",
   "execution_count": null,
   "metadata": {},
   "outputs": [],
   "source": [
    "print(f\"tuple() ==> {tuple()}\")\n",
    "print(f\"(1,)  ==> {(1,)}\")\n",
    "print(f\"(1,2)  ==> {(1,2)}\")"
   ]
  },
  {
   "cell_type": "markdown",
   "metadata": {},
   "source": [
    "### string\n",
    "   * str class stores immutable sequence of characters\n",
    "   * literal:\n",
    "      * single quotes: 'hello'\n",
    "      * double quotes: \"hello\"\n",
    "      * escaped quote delimiter:\n",
    "        * 'Don\\'t worry'\n",
    "      * escaped characters\n",
    "        * newline: \\n\n",
    "        * unicode: \\u: \\u20AC\n",
    "      * using \"\"\" and ''' to delimit multiline\n",
    "        * can embed newline naturally \n",
    "        * \"\"\"Welcome to the GPA\n",
    "          calculator\n",
    "            \"\"\""
   ]
  },
  {
   "cell_type": "markdown",
   "metadata": {},
   "source": [
    "### set\n",
    "  * collection of elements without duplicates\n",
    "  * highly optimized for checking if element is in a set\n",
    "  * restrictions\n",
    "    * elements not placed in particular order\n",
    "    * uses hash table as data structure\n",
    "    * only immutable types can be place in set\n",
    "      * supports tuples but not lists\n",
    "    * set of frozensets can belong to a set \n",
    "  * constructor: \n",
    "    * literal: curly braces used as delimiter for the set\n",
    "      * {17} or {'red', 'green', 'blue'}\n",
    "    * set() used to create empty set\n",
    "      * dictionary is returned with empty curly braces\n",
    "    * iterable parameters presented in constructor return \n",
    "      set of distinct elements\n",
    "      * set('hello') => {'h', 'e', 'o', 'l'}"
   ]
  },
  {
   "cell_type": "code",
   "execution_count": null,
   "metadata": {},
   "outputs": [],
   "source": [
    "print(f\"set() ==> {set()}\")\n",
    "print(f\"set('hello')  ==> {set('hello')}\")"
   ]
  },
  {
   "cell_type": "markdown",
   "metadata": {},
   "source": [
    "### frozenset\n",
    "  * immutable collection of elements without duplicates\n",
    "  * constructor:\n",
    "    * frozenset() -> empty frozenset object\n",
    "    * frozenset(iterable) -> frozenset object"
   ]
  },
  {
   "cell_type": "code",
   "execution_count": null,
   "metadata": {},
   "outputs": [],
   "source": [
    "print(f\"frozenset() ==> {frozenset()}\")\n",
    "print(f\"frozen('hello')  ==> {frozenset('hello')}\")"
   ]
  },
  {
   "cell_type": "markdown",
   "metadata": {},
   "source": [
    "### dict class\n",
    "  * dictionary or mapping for set of distinct keys to values\n",
    "  * almost identical to set except associated value is stored\n",
    "  * literal:\n",
    "    * curly braces to initialize\n",
    "    * {} initializes empty dictionary\n",
    "    * {'ga': 'Irish', 'de': 'German'}\n",
    "  * constructor:\n",
    "    * dict:\n",
    "        * accepts mappings as a parameter and creates a new dictionary\n",
    "          with identical association\n",
    "        * key value pairs as parameters\n",
    "          * dict{[('ga', 'Irish'), ('de', 'German')]}"
   ]
  },
  {
   "cell_type": "code",
   "execution_count": null,
   "metadata": {},
   "outputs": [],
   "source": [
    "print(f\"dict() ==> {dict()}\")\n",
    "print(f\"dict([('ga', 'Irish'), ('de', 'German')])  ==> {dict([('ga', 'Irish'), ('de', 'German')])}\")\n",
    "{'ir': 'Iran', 'en': 'USA'}"
   ]
  },
  {
   "cell_type": "markdown",
   "metadata": {},
   "source": [
    "### Expressions Operators and Precedence\n",
    "  *  expressions: combination of existing values using operators\n",
    "  * compound expressions: require evaluation of two or more operators\n",
    "  * precedence: determines order in which operators are evaluated"
   ]
  },
  {
   "cell_type": "markdown",
   "metadata": {},
   "source": [
    "### Logical Operators\n",
    "  * not: unary negation\n",
    "  * and: conditional and \n",
    "  * or: conditional or \n",
    "  * Note: or and and operators short-circuit\n",
    "    * if result can be determined based on value of first operand\n",
    "    * useful for constructing boolean expressions "
   ]
  },
  {
   "cell_type": "markdown",
   "metadata": {},
   "source": [
    "### Equality Operators\n",
    "  * is: same identity\n",
    "    * evaluates to True if a and b are aliases to same object\n",
    "  * is not: different identity\n",
    "    * evaluates to Trueif not aliases to same object\n",
    "  * ==: equivalent\n",
    "    * evaluates to true if a nd be refer to the same or different objects that evaluate to same value\n",
    "  * !=: not equivalent"
   ]
  },
  {
   "cell_type": "markdown",
   "metadata": {},
   "source": [
    "### Comparison Operators\n",
    "  * <: less than\n",
    "  * <= less than or equal to\n",
    "  * >: greater than\n",
    "  * >=: greater than or equal to\n",
    " \n",
    "Works for datatypes that have natural order:\n",
    "  * defined lexicograhically and case sensitively for strings\n",
    "  * exception raise if operands incompatible types"
   ]
  },
  {
   "cell_type": "code",
   "execution_count": null,
   "metadata": {},
   "outputs": [],
   "source": [
    "2 > 4\n",
    "\"bye\" < \"hello\""
   ]
  },
  {
   "cell_type": "markdown",
   "metadata": {},
   "source": [
    "### Arithmetic Operators\n",
    "  * \\+: addition\n",
    "  * \\-: subtraction\n",
    "  * \\*: multiplication\n",
    "  * \\/: true division\n",
    "  * \\/\\/: integer division\n",
    "  * \\%: modulo operator\n",
    "\n",
    "Usage:\n",
    "  * addition, subtraction, multiplication results depend on type supplied:\n",
    "    * if int an int is returned\n",
    "    * if float float is returned\n",
    "  * division:\n",
    "      * case of operands considered\n",
    "      * \\/ returns true division:\n",
    "        * 27 \\/ 4 ==> 6.75\n",
    "      * \\/\\/ returns integer division:\n",
    "        * 27 \\/\\/ 4 ==> 6\n",
    "  * semantics of \\/\\/ and \\% with negative:\n",
    "    * n: dividend\n",
    "    * m: divisor\n",
    "    * q = n \\/\\/ m\n",
    "    * r = n \\% m\n",
    "    * python guarantees: \n",
    "      * q \\* m \\+ r = n\n",
    "      * 0 <= r < m\n",
    "    * operators also extended to floating points\n",
    "      * q = n \\/\\ m : is integer floor of the quotient\n",
    "      * r = n \\% m: is remainder such that q \\* m \\+ r = n\n",
    "    \n",
    "      "
   ]
  },
  {
   "cell_type": "code",
   "execution_count": null,
   "metadata": {},
   "outputs": [],
   "source": [
    "print(f\"-27 // 4 ==> { -27 // 4} #  (−7) ∗ 4 + 1 = −27\")\n",
    "print(f\"27 // -4 ==> {27  // -4} # 27 = (−7) ∗ (−4) + (−1)\")"
   ]
  },
  {
   "cell_type": "markdown",
   "metadata": {},
   "source": [
    "### Bitwise Operator\n",
    "   * \\~ bitwise complement (prefix unary operator)\n",
    "   * \\& bitwise and\n",
    "   * \\| bitwise or\n",
    "   * \\^ bitwise exclusive or\n",
    "   * \\<\\< shift bits left, filling in with zeros\n",
    "   * \\>\\> shift bits right, filling in with sign bits"
   ]
  },
  {
   "cell_type": "code",
   "execution_count": null,
   "metadata": {},
   "outputs": [],
   "source": [
    "1 << 2\n",
    "5 >> 1\n",
    "1 & 2\n",
    "1 | 2\n",
    "~3\n",
    "4 ^ 2"
   ]
  },
  {
   "cell_type": "markdown",
   "metadata": {},
   "source": [
    "### Sequence Operators\n",
    "   * sequence types support syntax:\n",
    "     * s[j]: index at j\n",
    "     * **s[start:stop]**: slice including indices [start, stop)\n",
    "     * **s[start:stop:step]**: slice including indices start + step,\n",
    "       start \\+ 2*step, ..., up to but not equal to stop\n",
    "     * s \\+ t concatenation of sequence\n",
    "     * k \\* s: shorthand for s \\+ s \\+ s \\+ s ... (k times)\n",
    "     * val in s: containment check\n",
    "     * val not in s: not containment check\n",
    "\n",
    "Details:\n",
    "  * val in s: \n",
    "    * strings: single character in substring\n",
    "  * comparisons performed in lexographic order for all sequences\n",
    "    * element by element comparison until first mismatch\n",
    "      * s == t: equivalent (element by element)\n",
    "      * s != t: not equivalent (element by element)\n",
    "      * s < t: lexicographically less than\n",
    "      * s <= t: lexicographically greater than\n",
    "      * s > t: lexicographically greater than\n",
    "      * s >= t: lexicographically greater than or equal to\n",
    "  * sets and frozensets:\n",
    "    * key in s\n",
    "    * key not in s\n",
    "    * s1 == s2 \n",
    "    * s1 != s2\n",
    "    * s1 <= s2: s1 subset of s2\n",
    "    * s1 < s2: s1 proper subst of s2\n",
    "    * s1 > s2: s1 is proper superset of s2\n",
    "    * s1 >= s2: s1 is superset of s2\n",
    "    * s1 | s2: union of s1 and s2\n",
    "    * s1 & s2: intersection of s2 and s2\n",
    "    * s1 - s2: set of elements in s1 but not in s2\n",
    "    * s1 ^ s2: set of elements precisely in s1 or s2\n",
    "    * NOTE: no guarantee in set order\n",
    "       "
   ]
  },
  {
   "cell_type": "markdown",
   "metadata": {},
   "source": [
    "### dictionaries\n",
    "  * do not maintain order of elemens\n",
    "  * equivalence: dicta == dictb\n",
    "  * does sut support operators such as <\n",
    "    * two dictionaries contain same key pairs\n",
    "  * supported operators:\n",
    "    * d[key]: value associated with key\n",
    "    * d[key] == value: set or reset value with given key\n",
    "    * del d[key]: remove key associated with given dictionary\n",
    "    * key in d: containment check\n",
    "    * key not in d: non-containment check\n",
    "    * d1 == d2: d1 is equivalent to d2\n",
    "    * d1 != d2: d1 is not equivalent to d2"
   ]
  },
  {
   "cell_type": "markdown",
   "metadata": {},
   "source": [
    "### Extended Assignment Operators\n",
    "  * extended assignment operators (most supported)\n",
    "    * count += 5\n",
    "    * for immutable types such as number the identifier is assigned \n",
    "      to a newly constructed value\n",
    "    * lists += redefined to update list\n",
    "  * precedence:\n",
    "    * operators with higher precedence will be evaluated before operators with lower precedence.\n",
    "    * operators within a category are typically evaliated from left to right\n",
    "    * unary and exponentiation are evaluated from right to left\n",
    "  * Operator precedence:\n",
    "    1. member access: \n",
    "      * expr.member\n",
    "    1. second priority:\n",
    "      * function/method calls expr(...) \n",
    "      * container subscripts/slices expr[...]\n",
    "    1. exponentiation \\*\\*\n",
    "    1. unary operators\n",
    "      * \\+expr \n",
    "      * \\-expr\n",
    "      * ~expr\n",
    "    1. multiplication/division: \n",
    "      * \\*\n",
    "      * \\+\n",
    "    1. addition/subtraction:\n",
    "      * \\+\n",
    "      * \\-\n",
    "    1. bitwise shifting:\n",
    "      * \\<\\<\n",
    "      * \\>\\>\n",
    "    1. bitwise-and\n",
    "      * \\&\n",
    "    1. bitwise-xor\n",
    "      * \\^\n",
    "    1. bitwise-or\n",
    "      * \\|\n",
    "    1. comparison/containment:\n",
    "      * comparison: \n",
    "        * is, is not, ==, !=, <, <=, >, >, >=\n",
    "      * containment\n",
    "        * in, not in\n",
    "    1. logical-not\n",
    "      * not expr\n",
    "    1. logical-and\n",
    "      * not-and\n",
    "    1. logical-or \n",
    "      * or\n",
    "    1. conditional:\n",
    "      * val1 if cond else val2\n",
    "    1. assignment \\+, \\+=, \\-=, \\*=, etc"
   ]
  },
  {
   "cell_type": "markdown",
   "metadata": {},
   "source": [
    "### chained assignment\n",
    "  * multiple idenifiers to the rightmost value\n",
    "  * x = y = 0"
   ]
  },
  {
   "cell_type": "markdown",
   "metadata": {},
   "source": [
    "### chaining comparison\n",
    "  * expression 1 <= x + y <= 10 is evaluated as\n",
    "    * (1 <= x + y) and (x + y <= 10)\n",
    "  * note: (x + y) is not evaluated twice"
   ]
  },
  {
   "cell_type": "markdown",
   "metadata": {},
   "source": [
    "### Control Flow\n",
    "  * colon character used to define block of code for body control structure\n",
    "  * body requires indentation"
   ]
  },
  {
   "cell_type": "markdown",
   "metadata": {},
   "source": [
    "### Conditionals\n",
    "  * if statement\n",
    "    * each condition is a boolean statement\n",
    "    * each body contains one or more commands that are executed sequentially\n",
    "    * precisely one body will be executed\n",
    "    * any number of elif clauses can instantiated (including zero)\n",
    "    * else clause is optional\n",
    "    * booleans for strings:\n",
    "      * if response: will be True if response != ''\n",
    "    * control structures may be nested"
   ]
  },
  {
   "cell_type": "raw",
   "metadata": {},
   "source": [
    "if first_condition:\n",
    "  first_body\n",
    "  \n",
    "elif second_condition:\n",
    "  second_body\n",
    "\n",
    "elif third_condition:\n",
    "  third_body\n",
    "\n",
    "else:\n",
    "  fourth_body"
   ]
  },
  {
   "cell_type": "markdown",
   "metadata": {},
   "source": [
    "### While Loops\n",
    "  * condition can be arbitrary boolean expression\n",
    "  * if condition is True body is executed\n",
    "  * loop condition tested after loop body executes"
   ]
  },
  {
   "cell_type": "raw",
   "metadata": {},
   "source": [
    "while condition:\n",
    "  body"
   ]
  },
  {
   "cell_type": "markdown",
   "metadata": {},
   "source": [
    "### For Loops\n",
    "  * used for iterating through collections or series of items"
   ]
  },
  {
   "cell_type": "raw",
   "metadata": {},
   "source": [
    "for element in iterable:\n",
    "  body"
   ]
  },
  {
   "cell_type": "markdown",
   "metadata": {},
   "source": [
    "### Index-Based For Loops\n",
    "  * knowledge of index of an element within the sequence\n",
    "  * range: generates integer sequences\n",
    "    * range(n): genenerates integers 0 to n-1"
   ]
  },
  {
   "cell_type": "raw",
   "metadata": {},
   "source": [
    "total = 0\n",
    "for j in range(len(data)):\n",
    "  total += data[j]"
   ]
  },
  {
   "cell_type": "markdown",
   "metadata": {},
   "source": [
    "### Break Statements\n",
    "  * immediately terminates a while or for loop when executed within \n",
    "    the body"
   ]
  },
  {
   "cell_type": "raw",
   "metadata": {},
   "source": [
    "found = False\n",
    "for item in data:\n",
    "  if item == target:\n",
    "    found == True\n",
    "    break"
   ]
  },
  {
   "cell_type": "markdown",
   "metadata": {},
   "source": [
    "### Continue Statements\n",
    "  * causes current iteration of loop body to stop"
   ]
  },
  {
   "cell_type": "markdown",
   "metadata": {},
   "source": [
    "### Functions\n",
    "  * stateless function that is invoked without context\n",
    "    * sorted(data)\n",
    "  * method: member function that is invoked upon a specific object\n",
    "    * data.sort()\n",
    "  * body expressed in indented block of code\n",
    "  * activation record:\n",
    "    * created each time function is called \n",
    "    * stores relevant information for current call\n",
    "    * namespace: manages all identifiers that have local scope within the current call\n",
    "    * identifier in local scope have no relation to identifiers in callers scope\n",
    "  * return: \n",
    "    * function should immediately cease execution \n",
    "    * value returned to caller\n",
    "    * None returned if statement is empty \n",
    "    * multiple return statements allowed in function"
   ]
  },
  {
   "cell_type": "raw",
   "metadata": {},
   "source": [
    "def count(data, target):  # serves as functions signature\n",
    "  n = 0\n",
    "  for item in data:\n",
    "      if item == target:  # function body from after def to end\n",
    "          n += 1\n",
    "  return 1"
   ]
  },
  {
   "cell_type": "markdown",
   "metadata": {},
   "source": [
    "### Information Passing\n",
    "  * formal parameters: identifiers used to describe expected parameters\n",
    "  * actual parameters: objects sent by the caller when invoking the function\n",
    "  * standard assignment statement: when function is invoked, each identifier serves as formal parameter is assigned in the function's local scope. \n",
    "  * return value from function back to the caller is implemented as an assignment"
   ]
  },
  {
   "cell_type": "markdown",
   "metadata": {},
   "source": [
    "### Mutable Parameters\n",
    "  * mutable object parameters: state can be changed inside the \n",
    "        called function\n",
    "    * data.append('A') "
   ]
  },
  {
   "cell_type": "markdown",
   "metadata": {},
   "source": [
    "### Default Parameter Values\n",
    "  * functions are polymorphic: more than one function signature\n",
    "  * default values for parameters allow for calling function with\n",
    "    varying number of parameters\n",
    "  * def foo(a, b=15, c=27):\n",
    "    * foo(20)\n",
    "    * foo(20, 40)\n",
    "    * foo(20, 40, 80)\n",
    "  "
   ]
  },
  {
   "cell_type": "markdown",
   "metadata": {},
   "source": [
    "### Keyword Parameters\n",
    "  * positional arguments: traditional means of matching parameters to arguments\n",
    "  * keyword argument:\n",
    "    * explicitly assigning actual parameters to a formal parameter\n",
    "      * foo(c=5)\n",
    "    * possible to require functions to specify certain arguments as keyword only\n",
    "      * max(1, -3, key=abs)\n",
    "      * max(1, 2, -54, -100)\n",
    "      * key can not be specified positionally"
   ]
  },
  {
   "cell_type": "markdown",
   "metadata": {},
   "source": [
    "### Built-In Functions\n",
    "  * abs(x): absolute value of a number\n",
    "  * all(iterable): True if bool(e) is True for each element\n",
    "  * any(iterable): True if bool(e) is True for at least one element\n",
    "  * chr(integer): one character string with the given unicode print\n",
    "  * divmod(x,y): return (x//y, x%y) as tuple , if x and y are int\n",
    "  * hash(obj): return integer hash value for object\n",
    "  * id(obj): reutrn unique integer serving as identity for object\n",
    "  * input(prompt) return string from standard input\n",
    "  * isiinstance(obj, cls): obj is instance of cls\n",
    "  * iter(iterable): new iterator for object for parameter\n",
    "  * len(iterable): number of elements in a given iteration\n",
    "  * map(f, iter1, iter2,...) return iterator yielding result of fucntion calls f(e1, e2, ..) \n",
    "  * max(iterable): reutrn largest member\n",
    "  * min(iterable): smallest element\n",
    "  * next(iterator): return next element reported by iterator\n",
    "  * open(filename, mode): open file with given name and access mode\n",
    "  * ord(char): return unicode point of given character\n",
    "  * pow(x,y): reutrn x**y (as an integer if x and y are integers)\n",
    "  * pow(x,y,z): returrn x**y mod z as integer\n",
    "  * print(obj1, obj2,..) print arguments with separating spaces and trailing new line\n",
    "  * range(stop): iteration 0,1,...,stop-1\n",
    "  * range(start, stop): start, start+1, start+2,..stop-1\n",
    "  * range(start, stop, step): start, start+step, start +2*step..\n",
    "  * reversed(sequence): return iteration of sequence in reverse\n",
    "  * round(x) return nearest int value (goes to closest even value in case of a tie)\n",
    "  * round(x,k) reutrn value rounded to nearest 10^-k\n",
    "  * sorted(iterable): reutrn list containing elements of the iterable in sorted order\n",
    "  * sum(iterable): reutrn sum of elements in iterable (must be numeric)\n",
    "  * type(obj): reutnr class to which instance obj belongs\n",
    "  *"
   ]
  },
  {
   "cell_type": "markdown",
   "metadata": {},
   "source": [
    "### Simple Input and Output"
   ]
  },
  {
   "cell_type": "markdown",
   "metadata": {},
   "source": [
    "### console input and output\n",
    "  * print function: \n",
    "        * standard output to the console\n",
    "        * nonstring arguments will be displayed as str(x)\n",
    "        * print('maroon', 5)\n",
    "        * sep: used to change the separation\n",
    "            * print('maroon', 5, sep=':')\n",
    "        * end: character to print at end of print\n",
    "            * default is '\\n'\n",
    "        * file: print to output file rather than console"
   ]
  },
  {
   "cell_type": "markdown",
   "metadata": {},
   "source": [
    "### input function\n",
    "  * used to get input from the user\n",
    "  * example:\n",
    "     * year = int(input('In what year where you born? '))\n",
    "  "
   ]
  },
  {
   "cell_type": "markdown",
   "metadata": {},
   "source": [
    "### Files\n",
    "  * open(): used to typically access files\n",
    "    * 'w' or 'a' for writable files\n",
    "    * 'r' for readable\n",
    "  * default filse are opened readonly\n",
    "  * examples:\n",
    "    * fp.read(): return remaining contents of a file\n",
    "    * fp.read(k): return next k bytes of a readable file\n",
    "    * fp.readline(): return remainder of current line as a sting\n",
    "    * fp.redlines(): return all remaining lines of the file as a list of strings\n",
    "    * for line in fp: iterate through all remaining lines in readable file\n",
    "    * fp.seak(k): change current position to the kth byte of the file\n",
    "    * fp.tell(): return curent position of the file\n",
    "    * fp.write(string): write given string at current position of the writable file\n",
    "    * fp.writelines(seq): write each of th strins of the given sequence at the current position of the writable file. This command does not insert any newlines beyond what is embedd in the string.\n",
    "    * print(..,file=fp): redirect output of print function to the file"
   ]
  },
  {
   "cell_type": "markdown",
   "metadata": {},
   "source": [
    "### Exception Handling\n",
    "  * exceptions: objects that are raised (or thrown) by the code when encountering unexpected circumstances\n",
    "  * interpreter raises exceptions when it runs out of memery\n",
    "  * exceptions can be caught and handled by surrounding code\n",
    "  * uncaught exception causes the interpreter to stop executing the program and to report an appropriate error message"
   ]
  },
  {
   "cell_type": "markdown",
   "metadata": {},
   "source": [
    "### Common Exception Types\n",
    "  * Exception: base class for most error types\n",
    "  * AttributeError: raise by obj.foo. if obj has no member foo\n",
    "  * EOFError: if end of file reached for console or file output\n",
    "  * IOError: raised upon failure of I/O operation\n",
    "  * IndexError: raised if index to sequence is out of bonds\n",
    "  * KeyError: Raised if nonexistend key requested for set or dictionary\n",
    "  * KeyboardInterrupt: raied if user types ctrl-C while program is executing\n",
    "  * NameError: Raised if nonexistent identifier is used\n",
    "  * StopIteration: raised by next(iterator) if no element\n",
    "  * TypeError: raised when wrong type of parameter is sent to the function\n",
    "  * ValueError: raised when parameter has invalid value\n",
    "  * ZeroDivisionError: Raised when any division operator used with 0 as divisor"
   ]
  },
  {
   "cell_type": "markdown",
   "metadata": {},
   "source": [
    "### Raising an exception\n",
    "  * raise: used to throw an exception\n",
    "    * raise ValueError('x cannot be negative')\n",
    "  * first validate it is appropriate type then appropriate value"
   ]
  },
  {
   "cell_type": "raw",
   "metadata": {},
   "source": [
    "def sqrt(x):\n",
    "  if not isinstance(x, (int, float)):  \n",
    "    raise TypeError('x must be numeric')\n",
    "  elif x < 0:\n",
    "    raise ValueError('x cannot be negative')"
   ]
  },
  {
   "cell_type": "markdown",
   "metadata": {},
   "source": [
    "### Exception Handling\n",
    "  * isinstance: used to check type\n",
    "  * abstract base class, collections.Iterable support for-loop syntax\n",
    "  * python checks values for addition inherently no need to add verbose error checking when built in provide clear message\n",
    "  "
   ]
  },
  {
   "cell_type": "raw",
   "metadata": {},
   "source": [
    "def sum(values):\n",
    "    if not isinstance(values, collections.Iterable):\n",
    "        raise TypeError( parameter must be an iterable type )\n",
    "    total = 0\n",
    "    for v in values:\n",
    "        if not isinstance(v, (int, float)):\n",
    "            raise TypeError( elements must be numeric )\n",
    "        total = total+ v\n",
    "    return total\n",
    "    \n",
    "def sum(values):\n",
    "    total = 0\n",
    "        for v in values:\n",
    "    total = total + v\n",
    "    return total"
   ]
  },
  {
   "cell_type": "markdown",
   "metadata": {},
   "source": [
    "### catching an exception\n",
    "  * python typically uses: it is easier to ask for forgiveness than it is to get permission\n",
    "  * try/except:\n",
    "    * non-exceptional cases run efficiently\n",
    "    * exceptional cases require special handling\n",
    "    * useful if exceptions are rare and prohibitively expensive to proactively evaluate a condition to avoid the exception\n",
    "    * can use tuple of erros to indicate types of errors to catch:\n",
    "      * except (ValueError, EOFError)"
   ]
  },
  {
   "cell_type": "raw",
   "metadata": {},
   "source": [
    "try:\n",
    "    ratio = x / y\n",
    "except ZeroDivisionError:\n",
    "    ... do something else ..."
   ]
  },
  {
   "cell_type": "raw",
   "metadata": {},
   "source": [
    "### Examining the error\n",
    "try:\n",
    "    fp = open( sample.txt )\n",
    "except IOError as e:         \n",
    "    print( Unable to open the file: , e)"
   ]
  },
  {
   "cell_type": "raw",
   "metadata": {},
   "source": [
    "### do nothing with exception use \"pass\"\n",
    "except (ValueError, EOFError):\n",
    "    pass"
   ]
  },
  {
   "cell_type": "code",
   "execution_count": null,
   "metadata": {},
   "outputs": [],
   "source": [
    "### Exception guidance\n",
    "  * final \"except:\" clause without any identifiers will catch all \n",
    "    unknown errors\n",
    "    * used sparingly, dangerous to catch unknown errors\n",
    "  * finally clause: at the end of try catch will always be executed \n",
    "    even with uncaught exceptions"
   ]
  }
 ],
 "metadata": {
  "kernelspec": {
   "display_name": "Python 3",
   "language": "python",
   "name": "python3"
  },
  "language_info": {
   "codemirror_mode": {
    "name": "ipython",
    "version": 3
   },
   "file_extension": ".py",
   "mimetype": "text/x-python",
   "name": "python",
   "nbconvert_exporter": "python",
   "pygments_lexer": "ipython3",
   "version": "3.7.0"
  }
 },
 "nbformat": 4,
 "nbformat_minor": 2
}
